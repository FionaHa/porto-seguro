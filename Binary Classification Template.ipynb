{
 "cells": [
  {
   "cell_type": "code",
   "execution_count": 44,
   "metadata": {
    "collapsed": true
   },
   "outputs": [],
   "source": [
    "import warnings\n",
    "warnings.filterwarnings('ignore')\n",
    "\n",
    "import numpy as np\n",
    "import pandas as pd\n",
    "from pandas import DataFrame as df\n",
    "from IPython.display import display\n",
    "\n",
    "import matplotlib\n",
    "from matplotlib import pyplot as plt\n",
    "%matplotlib inline\n",
    "\n",
    "import xgboost as xgb\n",
    "from xgboost import XGBClassifier\n",
    "\n",
    "from sklearn.preprocessing import Imputer\n",
    "from sklearn.model_selection import train_test_split,KFold,StratifiedKFold,ShuffleSplit,StratifiedShuffleSplit\n",
    "from sklearn.model_selection import cross_val_score,GridSearchCV\n",
    "from sklearn.metrics import confusion_matrix,classification_report,make_scorer,fbeta_score,roc_auc_score\n",
    "\n",
    "import gini_metric as gm\n",
    "import encoding as enc"
   ]
  },
  {
   "cell_type": "code",
   "execution_count": 5,
   "metadata": {
    "collapsed": true
   },
   "outputs": [],
   "source": [
    "# *load data*\n",
    "train_data=pd.read_csv('train.csv')\n",
    "test_data=pd.read_csv('test.csv') "
   ]
  },
  {
   "cell_type": "code",
   "execution_count": 3,
   "metadata": {},
   "outputs": [
    {
     "name": "stdout",
     "output_type": "stream",
     "text": [
      "Train Shape: (595212, 59)\n",
      "Test Shape: (892816, 58)\n"
     ]
    }
   ],
   "source": [
    "# data shape\n",
    "print('Train Shape: {}'.format(train_data.shape))\n",
    "print('Test Shape: {}'.format(test_data.shape))"
   ]
  },
  {
   "cell_type": "code",
   "execution_count": 28,
   "metadata": {},
   "outputs": [],
   "source": [
    "# data types\n",
    "#print('Train Data Types:\\n{}\\n'.format(train_data.dtypes))"
   ]
  },
  {
   "cell_type": "code",
   "execution_count": 29,
   "metadata": {},
   "outputs": [],
   "source": [
    "# check class (im)balance \n",
    "#labels = train_data.groupby('target').size()\n",
    "#print('Target Variable: {}'.format(labels))"
   ]
  },
  {
   "cell_type": "code",
   "execution_count": 99,
   "metadata": {
    "collapsed": true
   },
   "outputs": [],
   "source": [
    "# *split data into X and y*\n",
    "y=train_data['target'].values\n",
    "X=train_data.drop(['target','id'],axis=1)\n",
    "test_id=test_data['id'].values\n",
    "X_test=test_data.drop(['id'],axis=1)"
   ]
  },
  {
   "cell_type": "markdown",
   "metadata": {},
   "source": [
    "### Feature Engineering"
   ]
  },
  {
   "cell_type": "code",
   "execution_count": 100,
   "metadata": {
    "collapsed": true
   },
   "outputs": [],
   "source": [
    "# feature engineering\n",
    "X['ps_car_13_reg_03']=pd.Series(X['ps_car_13']*X['ps_reg_03'],index=X.index)\n",
    "X['ps_reg_01_02_03']=pd.Series(X['ps_reg_01']*X['ps_reg_02']*X['ps_reg_03'],index=X.index)\n",
    "X['ps_ind_bins_sum']=pd.Series(X['ps_ind_06_bin']+X['ps_ind_07_bin']+X['ps_ind_08_bin']+X['ps_ind_09_bin']+\n",
    "                               X['ps_ind_10_bin']+X['ps_ind_11_bin']+X['ps_ind_12_bin']+X['ps_ind_13_bin']+\n",
    "                               X['ps_ind_16_bin']+X['ps_ind_17_bin']+X['ps_ind_18_bin'],index=X.index)\n",
    "# same treatment for test data \n",
    "#X_test['ps_car_13_reg_03']=pd.Series(X_test['ps_car_13']*X_test['ps_reg_03'],index=X_test.index)\n",
    "#X_test['ps_reg_01_02_03']=pd.Series(X_test['ps_reg_01']*X_test['ps_reg_02']*X_test['ps_reg_03'],index=X_test.index)\n",
    "#X_test['ps_ind_bins_sum']=pd.Series(X_test['ps_ind_06_bin']+X_test['ps_ind_07_bin']+X_test['ps_ind_08_bin']\n",
    "                                    #+X_test['ps_ind_09_bin']+X_test['ps_ind_10_bin']+X_test['ps_ind_11_bin']\n",
    "                                    #+X_test['ps_ind_12_bin']+X_test['ps_ind_13_bin']+X_test['ps_ind_16_bin']\n",
    "                                    #+X_test['ps_ind_17_bin']+X_test['ps_ind_18_bin'],index=X_test.index)"
   ]
  },
  {
   "cell_type": "code",
   "execution_count": 82,
   "metadata": {},
   "outputs": [],
   "source": [
    "# feature selection\n",
    "#X.drop(['ps_ind_06_bin','ps_ind_07_bin','ps_ind_08_bin','ps_ind_09_bin',\n",
    "        #'ps_ind_10_bin','ps_ind_11_bin','ps_ind_12_bin','ps_ind_13_bin','ps_ind_14'],axis=1,inplace=True)\n",
    "#X=X.drop(['ps_ind_10_bin','ps_ind_11_bin','ps_ind_12_bin','ps_ind_13_bin'],axis=1)\n",
    "#X=X.drop(['ps_calc_17_bin','ps_calc_20_bin','ps_car_10_cat','ps_calc_15_bin','ps_calc_01','ps_calc_04'\n",
    "          #,'ps_calc_09','ps_calc_14'],axis=1)\n",
    "# same treatment for test data \n",
    "#X_test.drop(['ps_ind_06_bin','ps_ind_07_bin','ps_ind_08_bin','ps_ind_09_bin','ps_ind_10_bin','ps_ind_11_bin',\n",
    "             #'ps_ind_12_bin','ps_ind_13_bin','ps_ind_14','ps_ind_16_bin','ps_ind_17_bin','ps_ind_18_bin']\n",
    "            #,axis=1,inplace=True)\n",
    "#X_test=X_test.drop(['ps_ind_10_bin','ps_ind_11_bin','ps_ind_12_bin','ps_ind_13_bin'],axis=1)\n",
    "#X_test=X_test.drop(['ps_calc_17_bin','ps_calc_20_bin','ps_car_10_cat','ps_calc_15_bin','ps_calc_01','ps_calc_04'\n",
    "                    #,'ps_calc_09','ps_calc_14'],axis=1)"
   ]
  },
  {
   "cell_type": "code",
   "execution_count": 94,
   "metadata": {},
   "outputs": [
    {
     "data": {
      "text/plain": [
       "Index(['ps_ind_01', 'ps_ind_02_cat', 'ps_ind_03', 'ps_ind_04_cat',\n",
       "       'ps_ind_05_cat', 'ps_ind_06_bin', 'ps_ind_07_bin', 'ps_ind_08_bin',\n",
       "       'ps_ind_09_bin', 'ps_ind_10_bin', 'ps_ind_11_bin', 'ps_ind_12_bin',\n",
       "       'ps_ind_13_bin', 'ps_ind_14', 'ps_ind_15', 'ps_ind_16_bin',\n",
       "       'ps_ind_17_bin', 'ps_ind_18_bin', 'ps_reg_01', 'ps_reg_02', 'ps_reg_03',\n",
       "       'ps_car_01_cat', 'ps_car_02_cat', 'ps_car_03_cat', 'ps_car_04_cat',\n",
       "       'ps_car_05_cat', 'ps_car_06_cat', 'ps_car_07_cat', 'ps_car_08_cat',\n",
       "       'ps_car_09_cat', 'ps_car_10_cat', 'ps_car_11_cat', 'ps_car_11',\n",
       "       'ps_car_12', 'ps_car_13', 'ps_car_14', 'ps_car_15', 'ps_calc_01',\n",
       "       'ps_calc_02', 'ps_calc_03', 'ps_calc_04', 'ps_calc_05', 'ps_calc_06',\n",
       "       'ps_calc_07', 'ps_calc_08', 'ps_calc_09', 'ps_calc_10', 'ps_calc_11',\n",
       "       'ps_calc_12', 'ps_calc_13', 'ps_calc_14', 'ps_calc_15_bin',\n",
       "       'ps_calc_16_bin', 'ps_calc_17_bin', 'ps_calc_18_bin', 'ps_calc_19_bin',\n",
       "       'ps_calc_20_bin', 'ps_ind_bins_sum'],\n",
       "      dtype='object')"
      ]
     },
     "execution_count": 94,
     "metadata": {},
     "output_type": "execute_result"
    }
   ],
   "source": [
    "X.columns"
   ]
  },
  {
   "cell_type": "code",
   "execution_count": 31,
   "metadata": {},
   "outputs": [],
   "source": [
    "# data summary \n",
    "#display(X.describe())"
   ]
  },
  {
   "cell_type": "code",
   "execution_count": null,
   "metadata": {
    "collapsed": true
   },
   "outputs": [],
   "source": [
    "# claim-free %\n",
    "#cf=1-list(y.values).count(1)/len(y.values)\n",
    "#print('{:.2%}'.format(cf))"
   ]
  },
  {
   "cell_type": "code",
   "execution_count": null,
   "metadata": {
    "collapsed": true
   },
   "outputs": [],
   "source": [
    "# label encoding\n",
    "# le=LabelEncoder()\n",
    "# y=df(le.fit_transform(y))"
   ]
  },
  {
   "cell_type": "code",
   "execution_count": 7,
   "metadata": {
    "collapsed": true
   },
   "outputs": [],
   "source": [
    "# *set missing values* \n",
    "#X_imp=X.replace(-1,np.nan)\n",
    "#print(X_imp.isnull().sum())\n",
    "#X_test_imp=X_test.replace(-1,np.nan)\n",
    "# X_imp=X_imp.astype('float32')\n",
    "# try Imputer and compare results to NaN\n",
    "# imp=Imputer() # default imputes missing values as the mean\n",
    "# X_imp=df(imp.fit_transform(X_imp))"
   ]
  },
  {
   "cell_type": "code",
   "execution_count": 17,
   "metadata": {},
   "outputs": [],
   "source": [
    "#X_encoded=enc.one_hot_encode(X_imp)\n",
    "#X_test_encoded=enc.one_hot_encode(X_test_imp)"
   ]
  },
  {
   "cell_type": "code",
   "execution_count": null,
   "metadata": {
    "collapsed": true
   },
   "outputs": [],
   "source": [
    "# check skewness of input variables\n",
    "# print('Input Variables:\\n{}'.format(X_imp.skew())) # (+) right skewed and (-) left skewed"
   ]
  },
  {
   "cell_type": "code",
   "execution_count": 101,
   "metadata": {},
   "outputs": [
    {
     "name": "stdout",
     "output_type": "stream",
     "text": [
      "Train samples: 476169\n",
      "Validation samples: 119043\n"
     ]
    }
   ],
   "source": [
    "# *split train data into train and validation sets*\n",
    "seed=4242\n",
    "test_size=0.2\n",
    "X_train,X_val,y_train,y_val=train_test_split(X,y,test_size=test_size,random_state=seed)\n",
    "print('Train samples: {}\\nValidation samples: {}'.format(len(X_train),len(X_val)))"
   ]
  },
  {
   "cell_type": "code",
   "execution_count": 102,
   "metadata": {},
   "outputs": [],
   "source": [
    "# *set data to XGBoost format*\n",
    "dtrain=xgb.DMatrix(X_train,y_train)\n",
    "dval=xgb.DMatrix(X_val,y_val)\n",
    "dtest=xgb.DMatrix(X_test)"
   ]
  },
  {
   "cell_type": "code",
   "execution_count": null,
   "metadata": {
    "collapsed": true
   },
   "outputs": [],
   "source": [
    "# cross validation\n",
    "# cv=KFold(n_splits=10,shuffle=True,random_state=seed)\n",
    "# cv=StratifiedKFold(n_splits=10,shuffle=True,random_state=seed)\n",
    "# cv=ShuffleSplit(n_splits=10,random_state=seed)\n",
    "# metric='roc_auc'\n",
    "# cv=StratifiedShuffleSplit(n_splits=10,random_state=seed)\n",
    "# scores=cross_val_score(model,X_train,y_train,cv=cv,scoring=metric,n_jobs=-1)\n",
    "# print(\"Metric Chosen: %.3f%%\" %(scores.mean()*100.0))"
   ]
  },
  {
   "cell_type": "code",
   "execution_count": 42,
   "metadata": {},
   "outputs": [],
   "source": [
    "# fit model (XGBoost API) \n",
    "#params={}\n",
    "#params['objective']='binary:logistic'\n",
    "#params['silent']=True\n",
    "#params['max_depth']=6\n",
    "#params['eta']=0.001\n",
    "#params['subsample']=0.8\n",
    "#params['colsample_bytree']=0.8\n",
    "#evals=[(dtrain,'train'),(dval,'val')]\n",
    "#feval=gm.gini_xgb\n",
    "#num_boost_round=10000\n",
    "#early_stopping_rounds=0.1*num_boost_round\n",
    "#evals_result={}\n",
    "#verbose_eval=0.01*num_boost_round\n",
    "#model = xgb.train(params=params,dtrain=dtrain,num_boost_round=num_boost_round,evals=evals,feval=feval,maximize=True,\n",
    "                  #early_stopping_rounds=early_stopping_rounds,evals_result=evals_result,verbose_eval=verbose_eval)"
   ]
  },
  {
   "cell_type": "code",
   "execution_count": 103,
   "metadata": {},
   "outputs": [],
   "source": [
    "# *set model (sklearn API)*\n",
    "model=XGBClassifier(max_depth=5,n_estimators=250,learning_rate=0.1,n_jobs=-1,subsample=0.8,colsample_bytree=0.8)"
   ]
  },
  {
   "cell_type": "code",
   "execution_count": 104,
   "metadata": {
    "scrolled": false
   },
   "outputs": [
    {
     "name": "stdout",
     "output_type": "stream",
     "text": [
      "[0]\tvalidation_0-auc:0.599765\tvalidation_1-auc:0.597497\n",
      "Multiple eval metrics have been passed: 'validation_1-auc' will be used for early stopping.\n",
      "\n",
      "Will train until validation_1-auc hasn't improved in 50 rounds.\n",
      "[1]\tvalidation_0-auc:0.615719\tvalidation_1-auc:0.611052\n",
      "[2]\tvalidation_0-auc:0.618233\tvalidation_1-auc:0.614041\n",
      "[3]\tvalidation_0-auc:0.622451\tvalidation_1-auc:0.618467\n",
      "[4]\tvalidation_0-auc:0.62399\tvalidation_1-auc:0.620794\n",
      "[5]\tvalidation_0-auc:0.625144\tvalidation_1-auc:0.621076\n",
      "[6]\tvalidation_0-auc:0.626577\tvalidation_1-auc:0.622695\n",
      "[7]\tvalidation_0-auc:0.62693\tvalidation_1-auc:0.621867\n",
      "[8]\tvalidation_0-auc:0.628076\tvalidation_1-auc:0.622363\n",
      "[9]\tvalidation_0-auc:0.62921\tvalidation_1-auc:0.622582\n",
      "[10]\tvalidation_0-auc:0.629883\tvalidation_1-auc:0.62283\n",
      "[11]\tvalidation_0-auc:0.630771\tvalidation_1-auc:0.623512\n",
      "[12]\tvalidation_0-auc:0.630658\tvalidation_1-auc:0.623858\n",
      "[13]\tvalidation_0-auc:0.63183\tvalidation_1-auc:0.625307\n",
      "[14]\tvalidation_0-auc:0.631579\tvalidation_1-auc:0.625322\n",
      "[15]\tvalidation_0-auc:0.632016\tvalidation_1-auc:0.625429\n",
      "[16]\tvalidation_0-auc:0.632555\tvalidation_1-auc:0.626301\n",
      "[17]\tvalidation_0-auc:0.632346\tvalidation_1-auc:0.62634\n",
      "[18]\tvalidation_0-auc:0.632479\tvalidation_1-auc:0.626555\n",
      "[19]\tvalidation_0-auc:0.632806\tvalidation_1-auc:0.626889\n",
      "[20]\tvalidation_0-auc:0.632943\tvalidation_1-auc:0.626767\n",
      "[21]\tvalidation_0-auc:0.633602\tvalidation_1-auc:0.626666\n",
      "[22]\tvalidation_0-auc:0.633555\tvalidation_1-auc:0.626462\n",
      "[23]\tvalidation_0-auc:0.634654\tvalidation_1-auc:0.627447\n",
      "[24]\tvalidation_0-auc:0.635074\tvalidation_1-auc:0.627304\n",
      "[25]\tvalidation_0-auc:0.63534\tvalidation_1-auc:0.627512\n",
      "[26]\tvalidation_0-auc:0.636457\tvalidation_1-auc:0.628058\n",
      "[27]\tvalidation_0-auc:0.637047\tvalidation_1-auc:0.628099\n",
      "[28]\tvalidation_0-auc:0.637773\tvalidation_1-auc:0.628516\n",
      "[29]\tvalidation_0-auc:0.639104\tvalidation_1-auc:0.628954\n",
      "[30]\tvalidation_0-auc:0.639814\tvalidation_1-auc:0.629341\n",
      "[31]\tvalidation_0-auc:0.640364\tvalidation_1-auc:0.629177\n",
      "[32]\tvalidation_0-auc:0.64101\tvalidation_1-auc:0.629036\n",
      "[33]\tvalidation_0-auc:0.641425\tvalidation_1-auc:0.629699\n",
      "[34]\tvalidation_0-auc:0.64166\tvalidation_1-auc:0.629672\n",
      "[35]\tvalidation_0-auc:0.642021\tvalidation_1-auc:0.629695\n",
      "[36]\tvalidation_0-auc:0.642641\tvalidation_1-auc:0.629845\n",
      "[37]\tvalidation_0-auc:0.643702\tvalidation_1-auc:0.630687\n",
      "[38]\tvalidation_0-auc:0.644294\tvalidation_1-auc:0.630671\n",
      "[39]\tvalidation_0-auc:0.645294\tvalidation_1-auc:0.631676\n",
      "[40]\tvalidation_0-auc:0.645784\tvalidation_1-auc:0.631654\n",
      "[41]\tvalidation_0-auc:0.646545\tvalidation_1-auc:0.631976\n",
      "[42]\tvalidation_0-auc:0.647436\tvalidation_1-auc:0.632573\n",
      "[43]\tvalidation_0-auc:0.64857\tvalidation_1-auc:0.633552\n",
      "[44]\tvalidation_0-auc:0.649269\tvalidation_1-auc:0.633668\n",
      "[45]\tvalidation_0-auc:0.649916\tvalidation_1-auc:0.633978\n",
      "[46]\tvalidation_0-auc:0.650464\tvalidation_1-auc:0.634305\n",
      "[47]\tvalidation_0-auc:0.651516\tvalidation_1-auc:0.634982\n",
      "[48]\tvalidation_0-auc:0.651993\tvalidation_1-auc:0.63494\n",
      "[49]\tvalidation_0-auc:0.652808\tvalidation_1-auc:0.635178\n",
      "[50]\tvalidation_0-auc:0.653767\tvalidation_1-auc:0.635707\n",
      "[51]\tvalidation_0-auc:0.654405\tvalidation_1-auc:0.635805\n",
      "[52]\tvalidation_0-auc:0.655154\tvalidation_1-auc:0.636088\n",
      "[53]\tvalidation_0-auc:0.655713\tvalidation_1-auc:0.636184\n",
      "[54]\tvalidation_0-auc:0.656389\tvalidation_1-auc:0.636308\n",
      "[55]\tvalidation_0-auc:0.656717\tvalidation_1-auc:0.636333\n",
      "[56]\tvalidation_0-auc:0.657423\tvalidation_1-auc:0.636553\n",
      "[57]\tvalidation_0-auc:0.658029\tvalidation_1-auc:0.636853\n",
      "[58]\tvalidation_0-auc:0.658695\tvalidation_1-auc:0.637119\n",
      "[59]\tvalidation_0-auc:0.659403\tvalidation_1-auc:0.637289\n",
      "[60]\tvalidation_0-auc:0.660172\tvalidation_1-auc:0.637661\n",
      "[61]\tvalidation_0-auc:0.660997\tvalidation_1-auc:0.63758\n",
      "[62]\tvalidation_0-auc:0.661646\tvalidation_1-auc:0.638054\n",
      "[63]\tvalidation_0-auc:0.662275\tvalidation_1-auc:0.638312\n",
      "[64]\tvalidation_0-auc:0.662811\tvalidation_1-auc:0.638741\n",
      "[65]\tvalidation_0-auc:0.663372\tvalidation_1-auc:0.639035\n",
      "[66]\tvalidation_0-auc:0.663825\tvalidation_1-auc:0.639276\n",
      "[67]\tvalidation_0-auc:0.664341\tvalidation_1-auc:0.639454\n",
      "[68]\tvalidation_0-auc:0.66485\tvalidation_1-auc:0.639744\n",
      "[69]\tvalidation_0-auc:0.66525\tvalidation_1-auc:0.639968\n",
      "[70]\tvalidation_0-auc:0.665822\tvalidation_1-auc:0.63989\n",
      "[71]\tvalidation_0-auc:0.66635\tvalidation_1-auc:0.63991\n",
      "[72]\tvalidation_0-auc:0.66702\tvalidation_1-auc:0.640217\n",
      "[73]\tvalidation_0-auc:0.667653\tvalidation_1-auc:0.640443\n",
      "[74]\tvalidation_0-auc:0.668227\tvalidation_1-auc:0.640362\n",
      "[75]\tvalidation_0-auc:0.668836\tvalidation_1-auc:0.640373\n",
      "[76]\tvalidation_0-auc:0.669426\tvalidation_1-auc:0.640498\n",
      "[77]\tvalidation_0-auc:0.669957\tvalidation_1-auc:0.64029\n",
      "[78]\tvalidation_0-auc:0.670619\tvalidation_1-auc:0.640241\n",
      "[79]\tvalidation_0-auc:0.671068\tvalidation_1-auc:0.640341\n",
      "[80]\tvalidation_0-auc:0.671582\tvalidation_1-auc:0.640498\n",
      "[81]\tvalidation_0-auc:0.672162\tvalidation_1-auc:0.640528\n",
      "[82]\tvalidation_0-auc:0.672317\tvalidation_1-auc:0.640498\n",
      "[83]\tvalidation_0-auc:0.673105\tvalidation_1-auc:0.640442\n",
      "[84]\tvalidation_0-auc:0.673844\tvalidation_1-auc:0.640713\n",
      "[85]\tvalidation_0-auc:0.674511\tvalidation_1-auc:0.640562\n",
      "[86]\tvalidation_0-auc:0.67518\tvalidation_1-auc:0.640796\n",
      "[87]\tvalidation_0-auc:0.675443\tvalidation_1-auc:0.640849\n",
      "[88]\tvalidation_0-auc:0.675862\tvalidation_1-auc:0.640774\n",
      "[89]\tvalidation_0-auc:0.676235\tvalidation_1-auc:0.640607\n",
      "[90]\tvalidation_0-auc:0.676696\tvalidation_1-auc:0.640601\n",
      "[91]\tvalidation_0-auc:0.677137\tvalidation_1-auc:0.640894\n",
      "[92]\tvalidation_0-auc:0.677727\tvalidation_1-auc:0.640894\n",
      "[93]\tvalidation_0-auc:0.678148\tvalidation_1-auc:0.640997\n",
      "[94]\tvalidation_0-auc:0.678754\tvalidation_1-auc:0.641021\n",
      "[95]\tvalidation_0-auc:0.679\tvalidation_1-auc:0.641135\n",
      "[96]\tvalidation_0-auc:0.679278\tvalidation_1-auc:0.641286\n",
      "[97]\tvalidation_0-auc:0.679461\tvalidation_1-auc:0.641256\n",
      "[98]\tvalidation_0-auc:0.679714\tvalidation_1-auc:0.641187\n",
      "[99]\tvalidation_0-auc:0.680166\tvalidation_1-auc:0.64103\n",
      "[100]\tvalidation_0-auc:0.680726\tvalidation_1-auc:0.64109\n",
      "[101]\tvalidation_0-auc:0.681189\tvalidation_1-auc:0.641105\n",
      "[102]\tvalidation_0-auc:0.681589\tvalidation_1-auc:0.640965\n",
      "[103]\tvalidation_0-auc:0.681953\tvalidation_1-auc:0.640797\n",
      "[104]\tvalidation_0-auc:0.682406\tvalidation_1-auc:0.640681\n",
      "[105]\tvalidation_0-auc:0.682928\tvalidation_1-auc:0.640784\n",
      "[106]\tvalidation_0-auc:0.68357\tvalidation_1-auc:0.640619\n",
      "[107]\tvalidation_0-auc:0.684258\tvalidation_1-auc:0.640685\n",
      "[108]\tvalidation_0-auc:0.684715\tvalidation_1-auc:0.640949\n",
      "[109]\tvalidation_0-auc:0.685126\tvalidation_1-auc:0.641005\n",
      "[110]\tvalidation_0-auc:0.685638\tvalidation_1-auc:0.640945\n",
      "[111]\tvalidation_0-auc:0.686102\tvalidation_1-auc:0.640807\n",
      "[112]\tvalidation_0-auc:0.68656\tvalidation_1-auc:0.640788\n",
      "[113]\tvalidation_0-auc:0.686812\tvalidation_1-auc:0.640688\n",
      "[114]\tvalidation_0-auc:0.687215\tvalidation_1-auc:0.64075\n",
      "[115]\tvalidation_0-auc:0.687676\tvalidation_1-auc:0.640724\n",
      "[116]\tvalidation_0-auc:0.687762\tvalidation_1-auc:0.640737\n",
      "[117]\tvalidation_0-auc:0.688226\tvalidation_1-auc:0.641028\n",
      "[118]\tvalidation_0-auc:0.688229\tvalidation_1-auc:0.641163\n",
      "[119]\tvalidation_0-auc:0.688654\tvalidation_1-auc:0.640916\n",
      "[120]\tvalidation_0-auc:0.689122\tvalidation_1-auc:0.641049\n",
      "[121]\tvalidation_0-auc:0.689399\tvalidation_1-auc:0.641205\n",
      "[122]\tvalidation_0-auc:0.689638\tvalidation_1-auc:0.641158\n",
      "[123]\tvalidation_0-auc:0.689795\tvalidation_1-auc:0.641247\n",
      "[124]\tvalidation_0-auc:0.690109\tvalidation_1-auc:0.64119\n",
      "[125]\tvalidation_0-auc:0.690501\tvalidation_1-auc:0.641115\n",
      "[126]\tvalidation_0-auc:0.690806\tvalidation_1-auc:0.641208\n",
      "[127]\tvalidation_0-auc:0.691061\tvalidation_1-auc:0.641325\n",
      "[128]\tvalidation_0-auc:0.691514\tvalidation_1-auc:0.64142\n",
      "[129]\tvalidation_0-auc:0.691664\tvalidation_1-auc:0.641372\n",
      "[130]\tvalidation_0-auc:0.692143\tvalidation_1-auc:0.641352\n",
      "[131]\tvalidation_0-auc:0.692498\tvalidation_1-auc:0.641282\n",
      "[132]\tvalidation_0-auc:0.692735\tvalidation_1-auc:0.64115\n",
      "[133]\tvalidation_0-auc:0.69336\tvalidation_1-auc:0.641292\n",
      "[134]\tvalidation_0-auc:0.693645\tvalidation_1-auc:0.641235\n",
      "[135]\tvalidation_0-auc:0.694015\tvalidation_1-auc:0.641146\n",
      "[136]\tvalidation_0-auc:0.694679\tvalidation_1-auc:0.641012\n",
      "[137]\tvalidation_0-auc:0.695287\tvalidation_1-auc:0.64088\n",
      "[138]\tvalidation_0-auc:0.695895\tvalidation_1-auc:0.64083\n",
      "[139]\tvalidation_0-auc:0.696437\tvalidation_1-auc:0.640856\n",
      "[140]\tvalidation_0-auc:0.696777\tvalidation_1-auc:0.640837\n",
      "[141]\tvalidation_0-auc:0.697334\tvalidation_1-auc:0.640767\n"
     ]
    },
    {
     "name": "stdout",
     "output_type": "stream",
     "text": [
      "[142]\tvalidation_0-auc:0.697812\tvalidation_1-auc:0.640626\n",
      "[143]\tvalidation_0-auc:0.698069\tvalidation_1-auc:0.640749\n",
      "[144]\tvalidation_0-auc:0.698346\tvalidation_1-auc:0.640931\n",
      "[145]\tvalidation_0-auc:0.698751\tvalidation_1-auc:0.640922\n",
      "[146]\tvalidation_0-auc:0.699039\tvalidation_1-auc:0.640823\n",
      "[147]\tvalidation_0-auc:0.699466\tvalidation_1-auc:0.640625\n",
      "[148]\tvalidation_0-auc:0.699889\tvalidation_1-auc:0.640579\n",
      "[149]\tvalidation_0-auc:0.700238\tvalidation_1-auc:0.6405\n",
      "[150]\tvalidation_0-auc:0.700498\tvalidation_1-auc:0.640473\n",
      "[151]\tvalidation_0-auc:0.700657\tvalidation_1-auc:0.640432\n",
      "[152]\tvalidation_0-auc:0.700892\tvalidation_1-auc:0.640283\n",
      "[153]\tvalidation_0-auc:0.701321\tvalidation_1-auc:0.640265\n",
      "[154]\tvalidation_0-auc:0.701712\tvalidation_1-auc:0.640229\n",
      "[155]\tvalidation_0-auc:0.702154\tvalidation_1-auc:0.640199\n",
      "[156]\tvalidation_0-auc:0.702703\tvalidation_1-auc:0.640263\n",
      "[157]\tvalidation_0-auc:0.703133\tvalidation_1-auc:0.640077\n",
      "[158]\tvalidation_0-auc:0.70341\tvalidation_1-auc:0.640153\n",
      "[159]\tvalidation_0-auc:0.70372\tvalidation_1-auc:0.640261\n",
      "[160]\tvalidation_0-auc:0.703863\tvalidation_1-auc:0.640216\n",
      "[161]\tvalidation_0-auc:0.704172\tvalidation_1-auc:0.640257\n",
      "[162]\tvalidation_0-auc:0.704414\tvalidation_1-auc:0.640284\n",
      "[163]\tvalidation_0-auc:0.70458\tvalidation_1-auc:0.640305\n",
      "[164]\tvalidation_0-auc:0.704844\tvalidation_1-auc:0.640382\n",
      "[165]\tvalidation_0-auc:0.705185\tvalidation_1-auc:0.640393\n",
      "[166]\tvalidation_0-auc:0.705282\tvalidation_1-auc:0.640388\n",
      "[167]\tvalidation_0-auc:0.705508\tvalidation_1-auc:0.640529\n",
      "[168]\tvalidation_0-auc:0.705917\tvalidation_1-auc:0.640547\n",
      "[169]\tvalidation_0-auc:0.70631\tvalidation_1-auc:0.640337\n",
      "[170]\tvalidation_0-auc:0.706386\tvalidation_1-auc:0.640302\n",
      "[171]\tvalidation_0-auc:0.706619\tvalidation_1-auc:0.640174\n",
      "[172]\tvalidation_0-auc:0.707053\tvalidation_1-auc:0.640126\n",
      "[173]\tvalidation_0-auc:0.707289\tvalidation_1-auc:0.640229\n",
      "[174]\tvalidation_0-auc:0.707583\tvalidation_1-auc:0.640298\n",
      "[175]\tvalidation_0-auc:0.707892\tvalidation_1-auc:0.640205\n",
      "[176]\tvalidation_0-auc:0.708191\tvalidation_1-auc:0.640164\n",
      "[177]\tvalidation_0-auc:0.708502\tvalidation_1-auc:0.64002\n",
      "[178]\tvalidation_0-auc:0.708581\tvalidation_1-auc:0.639976\n",
      "Stopping. Best iteration:\n",
      "[128]\tvalidation_0-auc:0.691514\tvalidation_1-auc:0.64142\n",
      "\n"
     ]
    }
   ],
   "source": [
    "# fit model (sklearn API)\n",
    "early_stopping_rounds=50 # generally as a % (e.g. 10%) of training epochs\n",
    "eval_set=[(X_train,y_train),(X_val,y_val)]\n",
    "eval_metric='auc'\n",
    "model.fit(X_train,y_train,early_stopping_rounds=early_stopping_rounds,eval_metric=eval_metric,\n",
    "          eval_set=eval_set,verbose=True)\n",
    "results=model.evals_result()"
   ]
  },
  {
   "cell_type": "code",
   "execution_count": null,
   "metadata": {
    "collapsed": true
   },
   "outputs": [],
   "source": [
    "# 0.63915; 0.641272; 0.64142"
   ]
  },
  {
   "cell_type": "code",
   "execution_count": null,
   "metadata": {
    "collapsed": true
   },
   "outputs": [],
   "source": [
    "# plot learning curve \n",
    "epochs=len(evals_result['val']['gini'])\n",
    "x_axis=range(0,epochs)\n",
    "fig,ax=plt.subplots()\n",
    "ax.plot(x_axis,evals_result['train']['gini'],label='Train')\n",
    "ax.plot(x_axis,evals_result['val']['gini'],label='Test')\n",
    "ax.legend()\n",
    "plt.show()"
   ]
  },
  {
   "cell_type": "code",
   "execution_count": null,
   "metadata": {
    "collapsed": true
   },
   "outputs": [],
   "source": [
    "# predictions\n",
    "pred=model.predict(dtest)\n",
    "#pred_prb=model.predict_proba(X_val)[:,1]\n",
    "#pred=[round(value) for value in pred_prb]"
   ]
  },
  {
   "cell_type": "code",
   "execution_count": null,
   "metadata": {
    "collapsed": true
   },
   "outputs": [],
   "source": [
    "# model performance reports\n",
    "#print(roc_auc_score(y_val,pred_prb))\n",
    "#pred=[round(p) for p in pred_prb]\n",
    "#print('Confusion Matrix:\\n{}\\n'.format(confusion_matrix(y_val,pred)))\n",
    "#print('Classification Report:\\n{}'.format(classification_report(y_val,pred)))"
   ]
  },
  {
   "cell_type": "code",
   "execution_count": null,
   "metadata": {
    "collapsed": true
   },
   "outputs": [],
   "source": [
    "# grid search\n",
    "#n_estimators=range(1000,5000,1000)\n",
    "max_depth=range(1,11,2)\n",
    "learning_rate=[0.0001,0.001,0.01]\n",
    "subsample=[0.1,0.2,0.3,0.4,0.5,0.6,0.7,0.8,0.9,1.0]\n",
    "#colsample_bytree=[0.1,0.2,0.3,0.4,0.5,0.6,0.7,0.8,0.9,1.0]\n",
    "#colsample_bylevel=[0.1,0.2,0.3,0.4,0.5,0.6,0.7,0.8,0.9,1.0]\n",
    "#param_grid=dict(colsample_bytree=colsample_bytree)\n",
    "# one parameter case\n",
    "#param_type=colsample_bytree\n",
    "#param_name='colsample_bytree'\n",
    "\n",
    "#gs=GridSearchCV(model,param_grid,scoring='neg_log_loss',cv=cv,n_jobs=-1)\n",
    "#scores=gs.fit(X,y)\n",
    "#print(\"Best: %f using %s\" % (scores.best_score_,scores.best_params_))\n",
    "#means=scores.cv_results_['mean_test_score']\n",
    "#stds=scores.cv_results_['std_test_score']\n",
    "#params=scores.cv_results_['params']\n",
    "#for mean,std,param in zip(means,stds,params):\n",
    "    #print(\"%f (%f) with: %r\" %(mean,std,param))\n",
    "\n",
    "# plot scores\n",
    "# one parameter case\n",
    "#plt.errorbar(param_type,means,yerr=stds)\n",
    "# two parameters case\n",
    "# means=np.array(means).reshape(len(learning_rate),len(n_estimators))\n",
    "# for i,value in enumerate(learning_rate):\n",
    "    # plt.plot(n_estimators,means[i],label='depth: '+str(value))\n",
    "#plt.legend()\n",
    "#plt.xlabel(param_name)\n",
    "#plt.ylabel('Log Loss')\n",
    "#plt.show()"
   ]
  },
  {
   "cell_type": "code",
   "execution_count": null,
   "metadata": {
    "collapsed": true
   },
   "outputs": [],
   "source": [
    "# plot single tree \n",
    "#plot_tree(model,num_trees=4,rankdir='LR') # plot fifth tree\n",
    "#plt.show()"
   ]
  },
  {
   "cell_type": "code",
   "execution_count": null,
   "metadata": {
    "collapsed": true
   },
   "outputs": [],
   "source": [
    "# plot feature importance\n",
    "#print(model.feature_importances_)\n",
    "#plt.bar(range(len(model.feature_importances_)),model.feature_importances_)\n",
    "#plt.show()\n",
    "# built-in function in XGBoost library that sorts features by importance \n",
    "#plot_importance(model)\n",
    "#plt.show()"
   ]
  },
  {
   "cell_type": "code",
   "execution_count": null,
   "metadata": {
    "collapsed": true
   },
   "outputs": [],
   "source": [
    "# built-in feature selection \n",
    "#thresholds=sort(model.feature_importances_)\n",
    "#for threshold in thresholds:\n",
    "    #selection=SelectFromModel(model,threshold=threshold,prefit=True)\n",
    "    #X_select=selection.transform(X)\n",
    "    #cv=StratifiedShuffleSplit(n_splits=10,random_state=seed)\n",
    "    #scores=cross_val_score(model,X_select,y,cv=cv)\n",
    "    #print(\"Threshold=%.3f, n=%d, Accuracy: %.2f%%\" %(threshold,X_select.shape[1],scores.mean()*100.0))"
   ]
  },
  {
   "cell_type": "code",
   "execution_count": null,
   "metadata": {
    "collapsed": true
   },
   "outputs": [],
   "source": [
    "# creat submission file for Kaggle\n",
    "sub=pd.DataFrame()\n",
    "sub['id']=test_id\n",
    "sub['target']=pred\n",
    "sub.to_csv('ps_xgb1.csv',index=False)"
   ]
  }
 ],
 "metadata": {
  "kernelspec": {
   "display_name": "Python 3",
   "language": "python",
   "name": "python3"
  },
  "language_info": {
   "codemirror_mode": {
    "name": "ipython",
    "version": 3
   },
   "file_extension": ".py",
   "mimetype": "text/x-python",
   "name": "python",
   "nbconvert_exporter": "python",
   "pygments_lexer": "ipython3",
   "version": "3.6.2"
  }
 },
 "nbformat": 4,
 "nbformat_minor": 2
}
