{
 "cells": [
  {
   "cell_type": "code",
   "execution_count": 16,
   "metadata": {
    "collapsed": true
   },
   "outputs": [],
   "source": [
    "import warnings\n",
    "warnings.filterwarnings('ignore')\n",
    "\n",
    "import numpy as np\n",
    "from numpy import set_printoptions\n",
    "set_printoptions(precision=3)\n",
    "import pandas as pd\n",
    "from pandas import DataFrame as df\n",
    "from IPython.display import display\n",
    "\n",
    "import matplotlib\n",
    "from matplotlib import pyplot as plt\n",
    "%matplotlib inline\n",
    "\n",
    "import xgboost as xgb\n",
    "from xgboost import XGBClassifier\n",
    "from lightgbm import LGBMClassifier\n",
    "from sklearn.linear_model import LogisticRegression\n",
    "from rgf.sklearn import RGFClassifier\n",
    "\n",
    "from sklearn.preprocessing import Imputer\n",
    "from sklearn.model_selection import train_test_split,KFold,StratifiedKFold,ShuffleSplit,StratifiedShuffleSplit\n",
    "from sklearn.model_selection import cross_val_score,GridSearchCV\n",
    "from sklearn.metrics import confusion_matrix,classification_report,make_scorer,fbeta_score,roc_auc_score\n",
    "\n",
    "import gini_metric as gm\n",
    "import encoding as enc\n",
    "import feature_engineering as fe\n",
    "from stacking import Stacking"
   ]
  },
  {
   "cell_type": "code",
   "execution_count": 2,
   "metadata": {
    "collapsed": true
   },
   "outputs": [],
   "source": [
    "# *load data*\n",
    "train_data=pd.read_csv('train.csv')\n",
    "test_data=pd.read_csv('test.csv') "
   ]
  },
  {
   "cell_type": "code",
   "execution_count": 3,
   "metadata": {},
   "outputs": [
    {
     "name": "stdout",
     "output_type": "stream",
     "text": [
      "Train Shape: (595212, 59)\n",
      "Test Shape: (892816, 58)\n"
     ]
    }
   ],
   "source": [
    "# data shape\n",
    "print('Train Shape: {}'.format(train_data.shape))\n",
    "print('Test Shape: {}'.format(test_data.shape))"
   ]
  },
  {
   "cell_type": "code",
   "execution_count": 4,
   "metadata": {
    "collapsed": true
   },
   "outputs": [],
   "source": [
    "# *split data into X and y*\n",
    "y=train_data['target'].values\n",
    "X=train_data.drop(['target','id'],axis=1)\n",
    "test_id=test_data['id'].values\n",
    "X_test=test_data.drop(['id'],axis=1)"
   ]
  },
  {
   "cell_type": "markdown",
   "metadata": {},
   "source": [
    "## Feature Engineering"
   ]
  },
  {
   "cell_type": "code",
   "execution_count": 29,
   "metadata": {
    "collapsed": true
   },
   "outputs": [],
   "source": [
    "# feature selection pipeline\n",
    "def feature_selection(df):\n",
    "    df.drop(['ps_ind_06_bin','ps_ind_07_bin','ps_ind_08_bin','ps_ind_09_bin',\n",
    "            'ps_ind_10_bin','ps_ind_11_bin','ps_ind_12_bin','ps_ind_13_bin','ps_ind_14'],axis=1,inplace=True)\n",
    "    df.drop(['ps_ind_10_bin','ps_ind_11_bin','ps_ind_12_bin','ps_ind_13_bin'],axis=1,inplace=True)\n",
    "    df.drop(['ps_calc_17_bin','ps_calc_20_bin','ps_car_10_cat','ps_calc_15_bin','ps_calc_01','ps_calc_04'\n",
    "              ,'ps_calc_09','ps_calc_14'],axis=1,inplace=True)\n",
    "    # drop '_calc_' attributes\n",
    "    cols=[col for col in X.columns if col.startswith('ps_calc_')]\n",
    "    df.drop(cols,axis=1,inplace=True)\n",
    "    return df\n",
    "\n",
    "# feature interactions pipeline\n",
    "def feature_interaction(base,df):\n",
    "    base_nan=base.replace(-1,np.NaN)\n",
    "    col_median=base_nan.median(axis=0)\n",
    "    col_mean=base_nan.mean(axis=0)\n",
    "    # construct feature interactions\n",
    "    df['ps_car_13_reg_03']=df['ps_car_13']*df['ps_reg_03']\n",
    "    df['neg_one_row_sum']=np.sum((df[df.columns]==-1).values,axis=1)\n",
    "    #df['ps_reg_01_02_03']=df['ps_reg_01']*df['ps_reg_02']*df['ps_reg_03']\n",
    "    #df['ps_ind_bins_sum']=df['ps_ind_06_bin']+df['ps_ind_07_bin']+df['ps_ind_08_bin']+df['ps_ind_09_bin'] \\\n",
    "    #+df['ps_ind_10_bin']+df['ps_ind_11_bin']+df['ps_ind_12_bin']+df['ps_ind_13_bin']+df['ps_ind_16_bin'] \\\n",
    "    #+df['ps_ind_17_bin']+df['ps_ind_18_bin']\n",
    "    # binarize feature data\n",
    "    for col in base.columns:\n",
    "        if '_bin' not in col:\n",
    "            df[col+str('_median_range')] = (df[col].values>col_median[col]).astype(np.int)\n",
    "            df[col+str('_mean_range')] = (df[col].values>col_mean[col]).astype(np.int)\n",
    "    return df\n",
    "\n",
    "def one_hot_encode(base,df):\n",
    "    unique_list={col:list(base[col].unique()) for col in base.columns}\n",
    "    for col in unique_list:\n",
    "        if len(unique_list[col])>2 and len(unique_list[col])<7:\n",
    "            for val in unique_list[col]:\n",
    "                df[col+'_ohe_'+str(val)]=(df[col].values==val).astype(np.int)\n",
    "    return df\n",
    "\n",
    "# duplicate rows removal pipeline\n",
    "def duplicates_removal(base,df):\n",
    "    col=[col for col in X.columns if not col.startswith('ps_calc_')]\n",
    "    dups=base[base.duplicated(subset=col,keep=False)]\n",
    "    df_no_dups=df[~(df.index.isin(dups.index))]\n",
    "    return df_no_dups    "
   ]
  },
  {
   "cell_type": "code",
   "execution_count": null,
   "metadata": {},
   "outputs": [],
   "source": [
    "# feature engineering\n",
    "X_eng=feature_interaction(X,X)\n",
    "X_test_eng=feature_interaction(X,X_test)"
   ]
  },
  {
   "cell_type": "code",
   "execution_count": null,
   "metadata": {
    "collapsed": true
   },
   "outputs": [],
   "source": [
    "# one-hot encoding\n",
    "X_ohe=one_hot_encode(X,X)\n",
    "X_test_ohe=one_hot_encode(X,X_test)"
   ]
  },
  {
   "cell_type": "code",
   "execution_count": 23,
   "metadata": {},
   "outputs": [],
   "source": [
    "# remove duplicate rows from X and y\n",
    "X_no_dups=duplicates_removal(X,X)\n",
    "y_no_dups=duplicates_removal(X,df(y))"
   ]
  },
  {
   "cell_type": "markdown",
   "metadata": {},
   "source": [
    "## Spot-Check Algorithms"
   ]
  },
  {
   "cell_type": "code",
   "execution_count": 5,
   "metadata": {},
   "outputs": [
    {
     "name": "stdout",
     "output_type": "stream",
     "text": [
      "Train samples: 446409\n",
      "Validation samples: 148803\n"
     ]
    }
   ],
   "source": [
    "# *set global parameter value*\n",
    "random_state=2017\n",
    "test_size=0.25\n",
    "\n",
    "# *split train data into train and validation sets*\n",
    "X_train,X_val,y_train,y_val=train_test_split(X,y,test_size=test_size,random_state=random_state)\n",
    "print('Train samples: {}\\nValidation samples: {}'.format(len(X_train),len(X_val)))"
   ]
  },
  {
   "cell_type": "markdown",
   "metadata": {},
   "source": [
    "### 1) XGBoost"
   ]
  },
  {
   "cell_type": "code",
   "execution_count": 14,
   "metadata": {
    "scrolled": false
   },
   "outputs": [
    {
     "data": {
      "image/png": "[encoded data removed]",
      "text/plain": [
       "<matplotlib.figure.Figure at 0x1a42d34c18>"
      ]
     },
     "metadata": {},
     "output_type": "display_data"
    },
    {
     "name": "stdout",
     "output_type": "stream",
     "text": [
      "0.638960996024\n"
     ]
    }
   ],
   "source": [
    "# sklearn API\n",
    "# initialize model\n",
    "max_depth=4\n",
    "n_estimators=200\n",
    "learning_rate=0.1\n",
    "subsample=0.8\n",
    "colsample_bytree=0.8\n",
    "model=XGBClassifier(max_depth=max_depth,n_estimators=n_estimators,learning_rate=learning_rate,\n",
    "                    subsample=subsample,colsample_bytree=colsample_bytree,n_jobs=-1,random_state=random_state)\n",
    "\n",
    "# fit to train & cross validation data\n",
    "early_stopping_rounds=0.1*n_estimators # generally as a % (e.g. 10%) of training epochs\n",
    "eval_set=[(X_train,y_train),(X_val,y_val)]\n",
    "eval_metric='auc'\n",
    "model.fit(X_train,y_train,early_stopping_rounds=early_stopping_rounds,eval_metric=eval_metric,\n",
    "          eval_set=eval_set,verbose=False)\n",
    "results=model.evals_result()\n",
    "\n",
    "# plot learning curve \n",
    "rounds=len(results['validation_0']['auc'])\n",
    "x_axis=range(0,rounds)\n",
    "fig,ax=plt.subplots()\n",
    "ax.plot(x_axis,results['validation_0']['auc'],label='Train')\n",
    "ax.plot(x_axis,results['validation_1']['auc'],label='Test')\n",
    "ax.legend()\n",
    "plt.show()\n",
    "\n",
    "# predictions\n",
    "predicted=model.predict_proba(X_val)[:,1]\n",
    "\n",
    "# model performance reports\n",
    "print(roc_auc_score(y_val,predicted))"
   ]
  },
  {
   "cell_type": "markdown",
   "metadata": {},
   "source": [
    "### 2) LightGBM"
   ]
  },
  {
   "cell_type": "code",
   "execution_count": 15,
   "metadata": {
    "scrolled": false
   },
   "outputs": [
    {
     "data": {
      "image/png": "[encoded data removed]",
      "text/plain": [
       "<matplotlib.figure.Figure at 0x111e59d68>"
      ]
     },
     "metadata": {},
     "output_type": "display_data"
    },
    {
     "name": "stdout",
     "output_type": "stream",
     "text": [
      "0.639222208015\n"
     ]
    }
   ],
   "source": [
    "# sklearn API\n",
    "# initialize model\n",
    "max_depth=4\n",
    "n_estimators=200\n",
    "learning_rate=0.1\n",
    "subsample=0.8\n",
    "colsample_bytree=0.8\n",
    "model=LGBMClassifier(max_depth=max_depth,n_estimators=n_estimators,learning_rate=learning_rate,\n",
    "                     subsample=subsample,colsample_bytree=colsample_bytree,n_jobs=-1,random_state=random_state)\n",
    "\n",
    "# fit to train & cross validation data\n",
    "early_stopping_rounds=0.1*n_estimators # generally as a % (e.g. 10%) of training epochs\n",
    "eval_set=[(X_train,y_train),(X_val,y_val)]\n",
    "eval_metric='auc'\n",
    "model.fit(X_train,y_train,early_stopping_rounds=early_stopping_rounds,eval_metric=eval_metric,\n",
    "          eval_set=eval_set,verbose=False)\n",
    "results=model.evals_result_\n",
    "\n",
    "# plot learning curve \n",
    "rounds=len(results['training']['auc'])\n",
    "x_axis=range(0,rounds)\n",
    "fig,ax=plt.subplots()\n",
    "ax.plot(x_axis,results['training']['auc'],label='Train')\n",
    "ax.plot(x_axis,results['valid_1']['auc'],label='Test')\n",
    "ax.legend()\n",
    "plt.show()\n",
    "\n",
    "# predictions\n",
    "predicted=model.predict_proba(X_val)[:,1]\n",
    "\n",
    "# model performance reports\n",
    "print(roc_auc_score(y_val,predicted))"
   ]
  },
  {
   "cell_type": "markdown",
   "metadata": {},
   "source": [
    "## Algorithm Comparison - Cross Validation Pipeline"
   ]
  },
  {
   "cell_type": "code",
   "execution_count": null,
   "metadata": {},
   "outputs": [],
   "source": [
    "# create pipeline for comparing model performances\n",
    "models=[]\n",
    "models.append(('xgboost',XGBClassifier()))\n",
    "models.append(('lightgbm',LGBMClassifier()))\n",
    "\n",
    "# run cross validation scoring\n",
    "names=[]\n",
    "scores=[]\n",
    "cv=StratifiedShuffleSplit(n_splits=2,random_state=random_state,test_size=test_size)\n",
    "#cv=StratifiedKFold(n_splits=2,shuffle=True,random_state=random_state)\n",
    "scoring='roc_auc'\n",
    "for name,model in models:\n",
    "    cv_scores=cross_val_score(model,X,y,cv=cv,scoring=scoring,verbose=2,n_jobs=-1)\n",
    "    scores.append(cv_scores)\n",
    "    names.append(name)\n",
    "    print('%s: %f%% (%f%%)'%(name,cv_scores.mean()*100.0,cv_scores.std()*100.0))"
   ]
  },
  {
   "cell_type": "code",
   "execution_count": null,
   "metadata": {
    "collapsed": true
   },
   "outputs": [],
   "source": [
    "# visualizing comparisons\n",
    "fig=plt.figure()\n",
    "fig.suptitle('Algorithm Comparison')\n",
    "ax=fig.add_subplot(111)\n",
    "plt.boxplot(scores)\n",
    "ax.set_xticklabels(names)\n",
    "plt.show()"
   ]
  },
  {
   "cell_type": "markdown",
   "metadata": {},
   "source": [
    "## Ensemble - Stacking"
   ]
  },
  {
   "cell_type": "code",
   "execution_count": 12,
   "metadata": {
    "collapsed": true
   },
   "outputs": [],
   "source": [
    "class Stacking(object):  \n",
    "    def __init__(self,n_splits,model,estimators):\n",
    "        self.n_splits=n_splits\n",
    "        self.model=model\n",
    "        self.estimators=estimators\n",
    "        \n",
    "    def fit_predict(self,X,y,X_test):\n",
    "        X=np.array(X)\n",
    "        y=np.array(y)\n",
    "        X_test=np.array(X_test)\n",
    "        folds=list(StratifiedKFold(n_splits=self.n_splits,shuffle=True,random_state=2017).split(X,y))\n",
    "        Y=np.zeros((X.shape[0],len(self.estimators)))\n",
    "        Y_test=np.zeros((X_test.shape[0],len(self.estimators)))\n",
    "        \n",
    "        for i,estimator in enumerate(self.estimators):\n",
    "            Y_test_i=np.zeros((X_test.shape[0],self.n_splits))\n",
    "            for j,(train_i,val_i) in enumerate(folds):\n",
    "                X_train=X[train_i]\n",
    "                y_train=y[train_i]\n",
    "                X_val=X[val_i]\n",
    "                print('Fit %s on fold %d'%(str(estimator).split('(')[0],j+1))\n",
    "                estimator.fit(X_train,y_train)\n",
    "                predicted=estimator.predict_proba(X_val)[:,1]                \n",
    "                Y[val_i,i]=predicted\n",
    "                Y_test_i[:,j]=estimator.predict_proba(X_test)[:,1]\n",
    "            Y_test[:,i]=Y_test_i.mean(axis=1)       \n",
    "        scores=cross_val_score(self.model,Y,y,cv=3,scoring='roc_auc',n_jobs=-1)\n",
    "        print('Model score: %.5f'%(scores.mean()))\n",
    "        self.model.fit(Y,y)\n",
    "        predicted=self.model.predict_proba(Y_test)[:,1]\n",
    "        return predicted"
   ]
  },
  {
   "cell_type": "code",
   "execution_count": 13,
   "metadata": {},
   "outputs": [
    {
     "name": "stdout",
     "output_type": "stream",
     "text": [
      "Fit LGBMClassifier fold 1\n",
      "Fit LGBMClassifier fold 2\n",
      "Fit LGBMClassifier fold 3\n",
      "Fit XGBClassifier fold 1\n",
      "Fit XGBClassifier fold 2\n",
      "Fit XGBClassifier fold 3\n",
      "Model score: 0.63949\n"
     ]
    }
   ],
   "source": [
    "# set params\n",
    "xgb_params_1={\n",
    "    'max_depth':4,\n",
    "    'n_estimators':200,\n",
    "    'learning_rate':0.1,\n",
    "    'subsample':0.8,\n",
    "    'colsample_bytree':0.8\n",
    "}\n",
    "lgb_params_1={\n",
    "    'max_depth':4,\n",
    "    'n_estimators':200,\n",
    "    'learning_rate':0.1,\n",
    "    'subsample':0.8,\n",
    "    'colsample_bytree':0.8\n",
    "}\n",
    "\n",
    "# set estimators\n",
    "xgb_model_1=XGBClassifier(**xgb_params_1)\n",
    "lgb_model_1=LGBMClassifier(**lgb_params_1)\n",
    "\n",
    "# initialize stacking\n",
    "model=Stacking(n_splits=3,model=LogisticRegression(),estimators=(lgb_model_1,xgb_model_1))        \n",
    "\n",
    "# fit to train data and predict on test data \n",
    "predicted=model.fit_predict(X,y,X_test)      "
   ]
  },
  {
   "cell_type": "markdown",
   "metadata": {},
   "source": [
    "## Optimization - Hyperparameter Tuning "
   ]
  },
  {
   "cell_type": "code",
   "execution_count": null,
   "metadata": {},
   "outputs": [],
   "source": [
    "# set hyperparameter grid\n",
    "n_estimators=range(100,300,100)\n",
    "max_depth=range(4,8,2)\n",
    "learning_rate=[0.0001,0.001,0.01]\n",
    "subsample=[0.1,0.2,0.3,0.4,0.5,0.6,0.7,0.8,0.9,1.0]\n",
    "colsample_bytree=[0.1,0.2,0.3,0.4,0.5,0.6,0.7,0.8,0.9,1.0]\n",
    "#colsample_bylevel=[0.1,0.2,0.3,0.4,0.5,0.6,0.7,0.8,0.9,1.0]\n",
    "param_grid=dict(max_depth=max_depth,n_estimators=n_estimators)\n",
    "\n",
    "# initialize grid search\n",
    "n_splits=2\n",
    "estimator=XGBClassifier()\n",
    "scoring='roc_auc'\n",
    "cv=StratifiedShuffleSplit(n_splits=n_splits,random_state=random_state,test_size=test_size)\n",
    "model=GridSearchCV(estimator=estimator,param_grid=param_grid,scoring=scoring,cv=cv,n_jobs=-1,verbose=2)\n",
    "model.fit(X,y)\n",
    "\n",
    "# show search results\n",
    "print(\"Best: %.3f%% using %s\\n\"%(model.best_score_*100.0,model.best_params_))\n",
    "for mean,std,param in zip(model.cv_results_['mean_test_score'],model.cv_results_['std_test_score'],\n",
    "                          model.cv_results_['params']):\n",
    "    print(\"%.3f%% (%.3f%%) with: %r\"%(mean*100.0,std*100.0,param))"
   ]
  },
  {
   "cell_type": "code",
   "execution_count": null,
   "metadata": {
    "collapsed": true
   },
   "outputs": [],
   "source": [
    "# visualize search results (scores)\n",
    "# one parameter case\n",
    "#plt.errorbar(param_type,means,yerr=stds)\n",
    "\n",
    "# two parameters case\n",
    "means=np.array(means).reshape(len(max_depth),len(n_estimators))\n",
    "for i,value in enumerate(max_depth):\n",
    "    plt.plot(n_estimators,means[i],label='Depth: '+str(value))\n",
    "plt.legend()\n",
    "plt.xlabel(param_name)\n",
    "plt.ylabel('AUC')\n",
    "plt.show()"
   ]
  },
  {
   "cell_type": "markdown",
   "metadata": {},
   "source": [
    "## Create Submission File to Kaggle "
   ]
  },
  {
   "cell_type": "code",
   "execution_count": null,
   "metadata": {
    "collapsed": true
   },
   "outputs": [],
   "source": [
    "# creat submission file for Kaggle\n",
    "sub=pd.DataFrame()\n",
    "sub['id']=test_id\n",
    "sub['target']=pred\n",
    "sub.to_csv('ps_xgb1.csv',index=False)"
   ]
  }
 ],
 "metadata": {
  "kernelspec": {
   "display_name": "Python 3",
   "language": "python",
   "name": "python3"
  },
  "language_info": {
   "codemirror_mode": {
    "name": "ipython",
    "version": 3
   },
   "file_extension": ".py",
   "mimetype": "text/x-python",
   "name": "python",
   "nbconvert_exporter": "python",
   "pygments_lexer": "ipython3",
   "version": "3.6.2"
  }
 },
 "nbformat": 4,
 "nbformat_minor": 2
}
